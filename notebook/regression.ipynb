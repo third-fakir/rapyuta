{
 "cells": [
  {
   "cell_type": "markdown",
   "metadata": {
    "colab_type": "text",
    "id": "3LugSt-Fu8c_"
   },
   "source": [
    "[![Open In Colab](https://colab.research.google.com/assets/colab-badge.svg)](https://colab.research.google.com/drive/1ObaHDemijPMbZNt6WNwVdzp9rjDZ9JWi#forceEdit=true&sandboxMode=true)\n"
   ]
  },
  {
   "cell_type": "markdown",
   "metadata": {
    "colab_type": "text",
    "id": "Ay43RsrWg13b"
   },
   "source": [
    "# Example of Linear Regression\n",
    "\n",
    "This notebook guides you through an example of regression problem.\n",
    "The task is to predict the circumference of the bicep muscle (denoted as `BicepC`) of women from simple features such as their height, weight and age.\n",
    "\n",
    "This is a regression task because we are asked to predict a continuous number representing a circumference in centimeters.\n",
    "\n",
    "We separate the numerical values in the dataset as follows:\n",
    "\n",
    "* **features**: \"height\", \"weight\", \"age\"\n",
    "* **target**: \"BicepC\"\n",
    "\n",
    "Alternatively (as it is standard notation in [scikit-learn](https://scikit-learn.org/stable/tutorial/statistical_inference/supervised_learning.html#linear-model-from-regression-to-sparsity)) we will use:\n",
    "\n",
    "* **X** : feature matrix\n",
    "* **y** : target variable"
   ]
  },
  {
   "cell_type": "markdown",
   "metadata": {
    "colab_type": "text",
    "id": "LHFr1RtPg13c"
   },
   "source": [
    "# Load the dataset\n",
    "\n",
    "The data is saved on a CSV file saved on disk `regression_train.csv`.\n",
    "It contains a header with the name of each column and it contains a row for each woman whose bicep was measured. Every individual is identified by a unique `ID` number."
   ]
  },
  {
   "cell_type": "markdown",
   "metadata": {
    "colab_type": "text",
    "id": "30bjtiIxg13d"
   },
   "source": [
    "We use `pandas` to get the data from the CSV file on disk."
   ]
  },
  {
   "cell_type": "code",
   "execution_count": 1,
   "metadata": {
    "colab": {},
    "colab_type": "code",
    "id": "i53rdHT0g13d"
   },
   "outputs": [],
   "source": [
    "import pandas as pd\n",
    "import numpy as np"
   ]
  },
  {
   "cell_type": "code",
   "execution_count": 2,
   "metadata": {
    "colab": {},
    "colab_type": "code",
    "id": "49dyh5m2g13g"
   },
   "outputs": [],
   "source": [
    "# training data save on disk in a file with this name\n",
    "filename = \"../data/regression_train.csv\""
   ]
  },
  {
   "cell_type": "code",
   "execution_count": 3,
   "metadata": {
    "colab": {},
    "colab_type": "code",
    "id": "wCVG5bv1g13j"
   },
   "outputs": [],
   "source": [
    "train_data = pd.read_csv(filename,index_col='ID')"
   ]
  },
  {
   "cell_type": "markdown",
   "metadata": {
    "colab_type": "text",
    "id": "yIkZgYK_g13l"
   },
   "source": [
    "Check the output by printing the rows and columns for 2 randomly sampled individuals"
   ]
  },
  {
   "cell_type": "code",
   "execution_count": 4,
   "metadata": {
    "colab": {
     "base_uri": "https://localhost:8080/",
     "height": 142
    },
    "colab_type": "code",
    "id": "c8xcaUWrg13l",
    "outputId": "8e679e83-0df1-4df0-bbdf-0312792089e0"
   },
   "outputs": [
    {
     "data": {
      "text/html": [
       "<div>\n",
       "<style scoped>\n",
       "    .dataframe tbody tr th:only-of-type {\n",
       "        vertical-align: middle;\n",
       "    }\n",
       "\n",
       "    .dataframe tbody tr th {\n",
       "        vertical-align: top;\n",
       "    }\n",
       "\n",
       "    .dataframe thead th {\n",
       "        text-align: right;\n",
       "    }\n",
       "</style>\n",
       "<table border=\"1\" class=\"dataframe\">\n",
       "  <thead>\n",
       "    <tr style=\"text-align: right;\">\n",
       "      <th></th>\n",
       "      <th>height</th>\n",
       "      <th>weight</th>\n",
       "      <th>age</th>\n",
       "      <th>BicepC</th>\n",
       "    </tr>\n",
       "    <tr>\n",
       "      <th>ID</th>\n",
       "      <th></th>\n",
       "      <th></th>\n",
       "      <th></th>\n",
       "      <th></th>\n",
       "    </tr>\n",
       "  </thead>\n",
       "  <tbody>\n",
       "    <tr>\n",
       "      <th>70</th>\n",
       "      <td>165.2</td>\n",
       "      <td>60.7</td>\n",
       "      <td>41</td>\n",
       "      <td>30.8</td>\n",
       "    </tr>\n",
       "    <tr>\n",
       "      <th>87</th>\n",
       "      <td>163.0</td>\n",
       "      <td>62.8</td>\n",
       "      <td>35</td>\n",
       "      <td>26.7</td>\n",
       "    </tr>\n",
       "  </tbody>\n",
       "</table>\n",
       "</div>"
      ],
      "text/plain": [
       "    height  weight  age  BicepC\n",
       "ID                             \n",
       "70   165.2    60.7   41    30.8\n",
       "87   163.0    62.8   35    26.7"
      ]
     },
     "execution_count": 4,
     "metadata": {},
     "output_type": "execute_result"
    }
   ],
   "source": [
    "train_data.sample(2)"
   ]
  },
  {
   "cell_type": "markdown",
   "metadata": {
    "colab_type": "text",
    "id": "zsYdv206g13o"
   },
   "source": [
    "With `pandas` it is easy to get an overview of the statistical properties of numerical features:"
   ]
  },
  {
   "cell_type": "code",
   "execution_count": 5,
   "metadata": {
    "colab": {
     "base_uri": "https://localhost:8080/",
     "height": 102
    },
    "colab_type": "code",
    "id": "LV_HQiEBg13p",
    "outputId": "afcc0151-e120-4b1c-df19-64c231e3e3fe",
    "tags": []
   },
   "outputs": [
    {
     "name": "stdout",
     "output_type": "stream",
     "text": [
      "        count        mean        std    min    25%    50%    75%    max\n",
      "height  107.0  157.923364   5.706031  143.6  153.2  159.0  161.5  173.0\n",
      "weight  107.0   53.331776   8.187526   37.4   47.3   52.1   57.0   78.6\n",
      "age     107.0   34.906542  11.055207   19.0   25.0   33.0   43.0   62.0\n",
      "BicepC  107.0   26.601869   3.021058   20.6   24.5   26.0   29.1   35.0\n"
     ]
    }
   ],
   "source": [
    "train_stats = train_data.describe().transpose()\n",
    "print(train_stats)"
   ]
  },
  {
   "cell_type": "markdown",
   "metadata": {
    "colab_type": "text",
    "id": "ldLDyikIjRme"
   },
   "source": [
    "The table above shows that we have 107 _data points_ with numerical values changing from 20.6 to 173.0 across features."
   ]
  },
  {
   "cell_type": "markdown",
   "metadata": {
    "colab_type": "text",
    "id": "Gq1zsC1Mmec3"
   },
   "source": [
    "# A look at the data"
   ]
  },
  {
   "cell_type": "markdown",
   "metadata": {
    "colab_type": "text",
    "id": "qEtnJ60_mhUc"
   },
   "source": [
    "For simplicity we can plot the relation of each variable with the target.\n",
    "We have 3 features and 1 target, so we would need a 4-dimensional space to show the whole dataset. \n",
    "\n",
    "We can use `pandas` to make a quick plot of the relation between each individual variable and the rest."
   ]
  },
  {
   "cell_type": "code",
   "execution_count": 6,
   "metadata": {
    "colab": {},
    "colab_type": "code",
    "id": "g_ndD_4CmeJT"
   },
   "outputs": [],
   "source": [
    "from pandas.plotting import scatter_matrix"
   ]
  },
  {
   "cell_type": "code",
   "execution_count": 7,
   "metadata": {
    "colab": {
     "base_uri": "https://localhost:8080/",
     "height": 611
    },
    "colab_type": "code",
    "id": "DbYGAwconPoP",
    "outputId": "22ce5da3-d1b2-4650-d61b-caf477bb0e64"
   },
   "outputs": [
    {
     "data": {
      "image/png": "[encoded data removed]",
      "text/plain": [
       "<Figure size 720x720 with 16 Axes>"
      ]
     },
     "metadata": {
      "needs_background": "light"
     },
     "output_type": "display_data"
    }
   ],
   "source": [
    "scatter_matrix(train_data, alpha=0.5, figsize=(10, 10), diagonal='hist');"
   ]
  },
  {
   "cell_type": "markdown",
   "metadata": {},
   "source": [
    "Optionally, we can use box plot to see outliers. In this case, data are normalized beforehand to see the box plot for each attribute side by side."
   ]
  },
  {
   "cell_type": "code",
   "execution_count": 8,
   "metadata": {},
   "outputs": [
    {
     "data": {
      "text/html": [
       "<div>\n",
       "<style scoped>\n",
       "    .dataframe tbody tr th:only-of-type {\n",
       "        vertical-align: middle;\n",
       "    }\n",
       "\n",
       "    .dataframe tbody tr th {\n",
       "        vertical-align: top;\n",
       "    }\n",
       "\n",
       "    .dataframe thead th {\n",
       "        text-align: right;\n",
       "    }\n",
       "</style>\n",
       "<table border=\"1\" class=\"dataframe\">\n",
       "  <thead>\n",
       "    <tr style=\"text-align: right;\">\n",
       "      <th></th>\n",
       "      <th>count</th>\n",
       "      <th>mean</th>\n",
       "      <th>std</th>\n",
       "      <th>min</th>\n",
       "      <th>25%</th>\n",
       "      <th>50%</th>\n",
       "      <th>75%</th>\n",
       "      <th>max</th>\n",
       "    </tr>\n",
       "  </thead>\n",
       "  <tbody>\n",
       "    <tr>\n",
       "      <th>height</th>\n",
       "      <td>107.0</td>\n",
       "      <td>2.285847e-15</td>\n",
       "      <td>1.0</td>\n",
       "      <td>-2.510215</td>\n",
       "      <td>-0.827785</td>\n",
       "      <td>0.188684</td>\n",
       "      <td>0.626817</td>\n",
       "      <td>2.642228</td>\n",
       "    </tr>\n",
       "    <tr>\n",
       "      <th>weight</th>\n",
       "      <td>107.0</td>\n",
       "      <td>1.058343e-16</td>\n",
       "      <td>1.0</td>\n",
       "      <td>-1.945860</td>\n",
       "      <td>-0.736703</td>\n",
       "      <td>-0.150445</td>\n",
       "      <td>0.448026</td>\n",
       "      <td>3.086185</td>\n",
       "    </tr>\n",
       "    <tr>\n",
       "      <th>age</th>\n",
       "      <td>107.0</td>\n",
       "      <td>-2.928602e-16</td>\n",
       "      <td>1.0</td>\n",
       "      <td>-1.438828</td>\n",
       "      <td>-0.896097</td>\n",
       "      <td>-0.172456</td>\n",
       "      <td>0.732095</td>\n",
       "      <td>2.450742</td>\n",
       "    </tr>\n",
       "    <tr>\n",
       "      <th>BicepC</th>\n",
       "      <td>107.0</td>\n",
       "      <td>2.230822e-16</td>\n",
       "      <td>1.0</td>\n",
       "      <td>-1.986678</td>\n",
       "      <td>-0.695740</td>\n",
       "      <td>-0.199225</td>\n",
       "      <td>0.826906</td>\n",
       "      <td>2.779865</td>\n",
       "    </tr>\n",
       "  </tbody>\n",
       "</table>\n",
       "</div>"
      ],
      "text/plain": [
       "        count          mean  std       min       25%       50%       75%  \\\n",
       "height  107.0  2.285847e-15  1.0 -2.510215 -0.827785  0.188684  0.626817   \n",
       "weight  107.0  1.058343e-16  1.0 -1.945860 -0.736703 -0.150445  0.448026   \n",
       "age     107.0 -2.928602e-16  1.0 -1.438828 -0.896097 -0.172456  0.732095   \n",
       "BicepC  107.0  2.230822e-16  1.0 -1.986678 -0.695740 -0.199225  0.826906   \n",
       "\n",
       "             max  \n",
       "height  2.642228  \n",
       "weight  3.086185  \n",
       "age     2.450742  \n",
       "BicepC  2.779865  "
      ]
     },
     "execution_count": 8,
     "metadata": {},
     "output_type": "execute_result"
    }
   ],
   "source": [
    "train_data_n = (train_data - train_data.mean()) /train_data.std()\n",
    "train_data_n.describe().transpose()"
   ]
  },
  {
   "cell_type": "code",
   "execution_count": 9,
   "metadata": {},
   "outputs": [
    {
     "data": {
      "text/plain": [
       "<AxesSubplot:>"
      ]
     },
     "execution_count": 9,
     "metadata": {},
     "output_type": "execute_result"
    },
    {
     "data": {
      "image/png": "[encoded data removed]",
      "text/plain": [
       "<Figure size 432x288 with 1 Axes>"
      ]
     },
     "metadata": {
      "needs_background": "light"
     },
     "output_type": "display_data"
    }
   ],
   "source": [
    "train_data_n.plot.box()"
   ]
  },
  {
   "cell_type": "markdown",
   "metadata": {
    "colab_type": "text",
    "id": "hA_nTHdvg13r"
   },
   "source": [
    "# Prepare the data"
   ]
  },
  {
   "cell_type": "markdown",
   "metadata": {
    "colab_type": "text",
    "id": "A-oEkmG3g13r"
   },
   "source": [
    "After loading the data in Section [Load the dataset](#load-the-dataset), we explicitly define the feature matrix and the target variable vector.\n",
    "\n",
    "With `pandas` this is straighforward because we have a way to call the columns by name."
   ]
  },
  {
   "cell_type": "code",
   "execution_count": 10,
   "metadata": {
    "colab": {},
    "colab_type": "code",
    "id": "vTVSPRnVg13s"
   },
   "outputs": [],
   "source": [
    "X = train_data.loc[:,[\"height\",\"weight\",\"age\"]]\n",
    "y = train_data.loc[:,[\"BicepC\"]]"
   ]
  },
  {
   "cell_type": "markdown",
   "metadata": {
    "colab_type": "text",
    "id": "EqrPyUsykvsg"
   },
   "source": [
    "The commands above select all examples (with `:`) from specific columns (with given names)."
   ]
  },
  {
   "cell_type": "markdown",
   "metadata": {
    "colab_type": "text",
    "id": "8FnQHRrYg13w"
   },
   "source": [
    "We can print out the shape of the feature matrix and the target vector"
   ]
  },
  {
   "cell_type": "code",
   "execution_count": 11,
   "metadata": {
    "colab": {
     "base_uri": "https://localhost:8080/",
     "height": 51
    },
    "colab_type": "code",
    "id": "l3aoZ5kIg13z",
    "outputId": "0ecab2af-f680-4585-8f18-430989e9bd8a",
    "tags": []
   },
   "outputs": [
    {
     "name": "stdout",
     "output_type": "stream",
     "text": [
      "Dataset shape\n",
      " Feature Matrix:(107, 3) Target Vector:(107, 1)\n"
     ]
    }
   ],
   "source": [
    "print(\"Dataset shape\\n Feature Matrix:{} Target Vector:{}\"\\\n",
    "      .format(X.shape,y.shape))"
   ]
  },
  {
   "cell_type": "markdown",
   "metadata": {
    "colab_type": "text",
    "id": "LlA6_uc_g131",
    "toc-hr-collapsed": true
   },
   "source": [
    "# Linear regression model\n"
   ]
  },
  {
   "cell_type": "markdown",
   "metadata": {
    "colab_type": "text",
    "id": "c_mfqgqpg131"
   },
   "source": [
    "\n",
    "We define a simple linear regression model using `scikit-learn` estimators."
   ]
  },
  {
   "cell_type": "code",
   "execution_count": 12,
   "metadata": {
    "colab": {},
    "colab_type": "code",
    "id": "1wi6Ri_ag132"
   },
   "outputs": [],
   "source": [
    "from sklearn.linear_model import LinearRegression"
   ]
  },
  {
   "cell_type": "markdown",
   "metadata": {
    "colab_type": "text",
    "id": "aa5yVSd-lZ-c"
   },
   "source": [
    "You can find the documentation of `LinearRegression` at this [link](https://scikit-learn.org/stable/modules/generated/sklearn.linear_model.LinearRegression.html#sklearn.linear_model.LinearRegression) on the `scikit-learn` documentation.\n",
    "\n",
    "This type of documentation is very helpful for understanding how to use the models.\n",
    "\n",
    "As seen in the documentation, this model can be _trained_ (or _fitted_) by calling the [`fit`](https://scikit-learn.org/stable/modules/generated/sklearn.linear_model.LinearRegression.html#sklearn.linear_model.LinearRegression.fit) method (this is standard practice in `scikit-learn`)."
   ]
  },
  {
   "cell_type": "markdown",
   "metadata": {
    "colab_type": "text",
    "id": "FlHZMZoJg137"
   },
   "source": [
    "Let us define the model with a non-zero coefficient so that the formula looks like\n",
    "\n",
    "$$ y = M \\cdot X + b $$"
   ]
  },
  {
   "cell_type": "code",
   "execution_count": 13,
   "metadata": {
    "colab": {},
    "colab_type": "code",
    "id": "PCkOt4vjg137"
   },
   "outputs": [],
   "source": [
    "model = LinearRegression(fit_intercept=True, normalize=False, copy_X=True, n_jobs=None)"
   ]
  },
  {
   "cell_type": "markdown",
   "metadata": {
    "colab_type": "text",
    "id": "qjB3OeU9mad-"
   },
   "source": [
    "# Train the model\n",
    "\n",
    "The model is trained by comparing the results of the model with the target vector $y$ and than changing the parameters $M$ and $b$ to minimize the distance between predictions and true values"
   ]
  },
  {
   "cell_type": "code",
   "execution_count": 14,
   "metadata": {
    "colab": {
     "base_uri": "https://localhost:8080/",
     "height": 34
    },
    "colab_type": "code",
    "id": "HJiLjEKbg139",
    "outputId": "e498719c-413d-41b5-ef20-6bc2152d8364"
   },
   "outputs": [
    {
     "data": {
      "text/plain": [
       "LinearRegression()"
      ]
     },
     "execution_count": 14,
     "metadata": {},
     "output_type": "execute_result"
    }
   ],
   "source": [
    "model.fit(X,y)"
   ]
  },
  {
   "cell_type": "code",
   "execution_count": 15,
   "metadata": {
    "colab": {
     "base_uri": "https://localhost:8080/",
     "height": 34
    },
    "colab_type": "code",
    "id": "3i1wjkfJg13_",
    "outputId": "4da90592-02b9-4ac7-cfe3-c01cf7fa2bdf",
    "tags": []
   },
   "outputs": [
    {
     "name": "stdout",
     "output_type": "stream",
     "text": [
      "Parameters M: [[-0.10301893  0.30755671  0.01256214]]\n"
     ]
    }
   ],
   "source": [
    "print(\"Parameters M: {}\".format(model.coef_))"
   ]
  },
  {
   "cell_type": "code",
   "execution_count": 16,
   "metadata": {
    "colab": {
     "base_uri": "https://localhost:8080/",
     "height": 34
    },
    "colab_type": "code",
    "id": "CF3xLwCUqAE2",
    "outputId": "94d12b4a-2d84-4f57-ebce-832659ff8a9a",
    "tags": []
   },
   "outputs": [
    {
     "name": "stdout",
     "output_type": "stream",
     "text": [
      "Parameters b: [26.0299187]\n"
     ]
    }
   ],
   "source": [
    "print(\"Parameters b: {}\".format(model.intercept_))"
   ]
  },
  {
   "cell_type": "markdown",
   "metadata": {
    "colab_type": "text",
    "id": "Y41KyFbHrYP2"
   },
   "source": [
    "# Predictions and errors"
   ]
  },
  {
   "cell_type": "markdown",
   "metadata": {
    "colab_type": "text",
    "id": "N-7v6SI3q7DP"
   },
   "source": [
    "The mean squared error (MSE) between the predictions and the target values is computed easily in `scikit-learn` if we first calculate the predictions"
   ]
  },
  {
   "cell_type": "code",
   "execution_count": 17,
   "metadata": {
    "colab": {},
    "colab_type": "code",
    "id": "HONeE0EDrV8t"
   },
   "outputs": [],
   "source": [
    "y_pred = model.predict(X)"
   ]
  },
  {
   "cell_type": "code",
   "execution_count": 18,
   "metadata": {
    "colab": {},
    "colab_type": "code",
    "id": "IaxUn6TxrDRj"
   },
   "outputs": [],
   "source": [
    "from sklearn.metrics import mean_squared_error"
   ]
  },
  {
   "cell_type": "code",
   "execution_count": 19,
   "metadata": {
    "colab": {
     "base_uri": "https://localhost:8080/",
     "height": 34
    },
    "colab_type": "code",
    "id": "P7Kzy_u2rGcI",
    "outputId": "33a98294-38d4-4fd6-a07b-00283490316b",
    "tags": []
   },
   "outputs": [
    {
     "name": "stdout",
     "output_type": "stream",
     "text": [
      "Mean Squared Error: 3.4280764900341425\n"
     ]
    }
   ],
   "source": [
    "print(\"Mean Squared Error: {}\".format(mean_squared_error(y,y_pred)))"
   ]
  },
  {
   "cell_type": "markdown",
   "metadata": {
    "colab_type": "text",
    "id": "MFIbA22nrdJ5"
   },
   "source": [
    "The error of our model is 3.4 centimeters."
   ]
  },
  {
   "cell_type": "markdown",
   "metadata": {
    "colab_type": "text",
    "id": "EnjmBTaFg14d"
   },
   "source": [
    "# Plot regression results"
   ]
  },
  {
   "cell_type": "markdown",
   "metadata": {
    "colab_type": "text",
    "id": "jR7_TZo3g14d"
   },
   "source": [
    "Now we use `matplotlib` to plot the results of the model and compare it with the real values in the target vector"
   ]
  },
  {
   "cell_type": "code",
   "execution_count": 20,
   "metadata": {
    "colab": {},
    "colab_type": "code",
    "id": "1jg3jMZYg14d"
   },
   "outputs": [],
   "source": [
    "import matplotlib.pyplot as plt\n",
    "\n",
    "def plot_regression_results(ax, y_true, y_pred, model_name, scores, bodypart):\n",
    "    \"\"\"Scatter plot of the predicted vs true targets.\"\"\"\n",
    "    ax.plot([y_true.min(), y_true.max()],\n",
    "            [y_true.min(), y_true.max()],\n",
    "            '--r', linewidth=2)\n",
    "    ax.scatter(y_true, y_pred, alpha=0.5)\n",
    "    ax.spines['top'].set_visible(False)\n",
    "    ax.spines['right'].set_visible(False)\n",
    "    ax.get_xaxis().tick_bottom()\n",
    "    ax.get_yaxis().tick_left()\n",
    "    ax.spines['left'].set_position(('outward', 10))\n",
    "    ax.spines['bottom'].set_position(('outward', 10))\n",
    "    ax.set_xlim([y_true.min(), y_true.max()])\n",
    "    ax.set_ylim([y_true.min(), y_true.max()])\n",
    "    ax.set_xlabel('Measured')\n",
    "    ax.set_ylabel('Predicted')\n",
    "    extra = plt.Rectangle((0, 0), 0, 0, fc=\"w\", fill=False,\n",
    "                          edgecolor='none', linewidth=0)\n",
    "    ax.legend([extra], [scores], loc='upper left')\n",
    "    title = model_name + '\\n Target: {}'.format(bodypart)\n",
    "    ax.set_title(title)"
   ]
  },
  {
   "cell_type": "markdown",
   "metadata": {
    "colab_type": "text",
    "id": "pr5r16yIs0ew"
   },
   "source": [
    "In the next figure, a perfect model will produce predictions on the dashed red line."
   ]
  },
  {
   "cell_type": "code",
   "execution_count": 21,
   "metadata": {
    "colab": {
     "base_uri": "https://localhost:8080/",
     "height": 585
    },
    "colab_type": "code",
    "id": "Glg24XkWg14g",
    "outputId": "7829ddaa-9ddd-404f-b96c-a9726c715429"
   },
   "outputs": [
    {
     "data": {
      "image/png": "[encoded data removed]",
      "text/plain": [
       "<Figure size 576x576 with 1 Axes>"
      ]
     },
     "metadata": {
      "needs_background": "light"
     },
     "output_type": "display_data"
    }
   ],
   "source": [
    "fig, ax = plt.subplots(figsize=(8, 8))\n",
    "y_pred = model.predict(X)\n",
    "plot_regression_results(ax, y.values, y_pred,'LinearRegression','MSE={:.2f} cm'.format(mean_squared_error(y,y_pred)),\"BicepC\")\n",
    "plt.tight_layout()\n",
    "plt.show()"
   ]
  },
  {
   "cell_type": "markdown",
   "metadata": {
    "colab_type": "text",
    "id": "8sfbhT60s-bW"
   },
   "source": [
    "# Test the model\n",
    "\n",
    "We can test how good this model fares when we look at unseen data.\n"
   ]
  },
  {
   "cell_type": "markdown",
   "metadata": {
    "colab_type": "text",
    "id": "f2yc8BOltEfw"
   },
   "source": [
    "We have a test dataset in `regression_test.csv` and we can look at the predictions of our trained model"
   ]
  },
  {
   "cell_type": "markdown",
   "metadata": {
    "colab_type": "text",
    "id": "D16hRNJqtMPN"
   },
   "source": [
    "## Read the data"
   ]
  },
  {
   "cell_type": "code",
   "execution_count": 22,
   "metadata": {
    "colab": {},
    "colab_type": "code",
    "id": "Mq2xTNE2tD6X"
   },
   "outputs": [],
   "source": [
    "test_data = pd.read_csv(\"../data/regression_test.csv\", index_col='ID')"
   ]
  },
  {
   "cell_type": "code",
   "execution_count": 23,
   "metadata": {
    "colab": {
     "base_uri": "https://localhost:8080/",
     "height": 142
    },
    "colab_type": "code",
    "id": "UfzbDWxetTlc",
    "outputId": "e601c36d-45e5-40e2-c737-fdae1d9ce4dd"
   },
   "outputs": [
    {
     "data": {
      "text/html": [
       "<div>\n",
       "<style scoped>\n",
       "    .dataframe tbody tr th:only-of-type {\n",
       "        vertical-align: middle;\n",
       "    }\n",
       "\n",
       "    .dataframe tbody tr th {\n",
       "        vertical-align: top;\n",
       "    }\n",
       "\n",
       "    .dataframe thead th {\n",
       "        text-align: right;\n",
       "    }\n",
       "</style>\n",
       "<table border=\"1\" class=\"dataframe\">\n",
       "  <thead>\n",
       "    <tr style=\"text-align: right;\">\n",
       "      <th></th>\n",
       "      <th>height</th>\n",
       "      <th>weight</th>\n",
       "      <th>age</th>\n",
       "      <th>BicepC</th>\n",
       "    </tr>\n",
       "    <tr>\n",
       "      <th>ID</th>\n",
       "      <th></th>\n",
       "      <th></th>\n",
       "      <th></th>\n",
       "      <th></th>\n",
       "    </tr>\n",
       "  </thead>\n",
       "  <tbody>\n",
       "    <tr>\n",
       "      <th>69</th>\n",
       "      <td>158.5</td>\n",
       "      <td>50.0</td>\n",
       "      <td>32</td>\n",
       "      <td>26.0</td>\n",
       "    </tr>\n",
       "    <tr>\n",
       "      <th>86</th>\n",
       "      <td>152.5</td>\n",
       "      <td>67.9</td>\n",
       "      <td>55</td>\n",
       "      <td>27.0</td>\n",
       "    </tr>\n",
       "  </tbody>\n",
       "</table>\n",
       "</div>"
      ],
      "text/plain": [
       "    height  weight  age  BicepC\n",
       "ID                             \n",
       "69   158.5    50.0   32    26.0\n",
       "86   152.5    67.9   55    27.0"
      ]
     },
     "execution_count": 23,
     "metadata": {},
     "output_type": "execute_result"
    }
   ],
   "source": [
    "test_data.sample(2)"
   ]
  },
  {
   "cell_type": "code",
   "execution_count": 24,
   "metadata": {
    "colab": {
     "base_uri": "https://localhost:8080/",
     "height": 102
    },
    "colab_type": "code",
    "id": "9_eOZ5gCtU7z",
    "outputId": "cd60b1cf-f0f8-4605-e7bb-c0f4839b0300",
    "tags": []
   },
   "outputs": [
    {
     "name": "stdout",
     "output_type": "stream",
     "text": [
      "        count    mean        std    min     25%     50%      75%    max\n",
      "height   10.0  158.02   4.455159  152.5  155.00  157.70  160.900  165.2\n",
      "weight   10.0   53.01   7.057455   42.6   50.35   52.10   54.350   67.9\n",
      "age      10.0   32.80  10.768266   21.0   27.00   29.50   36.250   55.0\n",
      "BicepC   10.0   26.45   1.677465   24.0   25.30   25.95   27.525   29.5\n"
     ]
    }
   ],
   "source": [
    "test_stats = test_data.describe().transpose()\n",
    "print(test_stats)"
   ]
  },
  {
   "cell_type": "markdown",
   "metadata": {
    "colab_type": "text",
    "id": "YNkJ74Ghta9A"
   },
   "source": [
    "The test dataset is including 10 individuals."
   ]
  },
  {
   "cell_type": "markdown",
   "metadata": {},
   "source": [
    "As before mentioned, we can use box plot to see outliers. In this case, data are normalized beforehand to see the box plot for each attribute side by side."
   ]
  },
  {
   "cell_type": "code",
   "execution_count": 25,
   "metadata": {},
   "outputs": [
    {
     "data": {
      "text/plain": [
       "<AxesSubplot:>"
      ]
     },
     "execution_count": 25,
     "metadata": {},
     "output_type": "execute_result"
    },
    {
     "data": {
      "image/png": "[encoded data removed]",
      "text/plain": [
       "<Figure size 432x288 with 1 Axes>"
      ]
     },
     "metadata": {
      "needs_background": "light"
     },
     "output_type": "display_data"
    }
   ],
   "source": [
    "test_data_n = (test_data - test_data.mean()) /test_data.std()\n",
    "test_data_n.describe().transpose()\n",
    "test_data_n.plot.box()"
   ]
  },
  {
   "cell_type": "markdown",
   "metadata": {
    "colab_type": "text",
    "id": "IYrpB1WstgVg"
   },
   "source": [
    "## Predict with the model"
   ]
  },
  {
   "cell_type": "markdown",
   "metadata": {
    "colab_type": "text",
    "id": "g0wqprHTtkwi"
   },
   "source": [
    "Define the new feature matrix and target vector"
   ]
  },
  {
   "cell_type": "code",
   "execution_count": 26,
   "metadata": {
    "colab": {},
    "colab_type": "code",
    "id": "nbcRnGamtpOB"
   },
   "outputs": [],
   "source": [
    "X_test = test_data.loc[:,[\"height\",\"weight\",\"age\"]]\n",
    "y_test = test_data.loc[:,[\"BicepC\"]]"
   ]
  },
  {
   "cell_type": "markdown",
   "metadata": {
    "colab_type": "text",
    "id": "gs_gcnCMtyNL"
   },
   "source": [
    "Predict with the `LinearRegression` model and the saved parameters $M$ and $b$ from Section [Train the mode](#train-the-model)"
   ]
  },
  {
   "cell_type": "code",
   "execution_count": 27,
   "metadata": {
    "colab": {},
    "colab_type": "code",
    "id": "eSVPDzDutaJt"
   },
   "outputs": [],
   "source": [
    "y_pred = model.predict(X_test)"
   ]
  },
  {
   "cell_type": "markdown",
   "metadata": {
    "colab_type": "text",
    "id": "N6Vx07RAuCV0"
   },
   "source": [
    "Plot the results"
   ]
  },
  {
   "cell_type": "code",
   "execution_count": 28,
   "metadata": {
    "colab": {
     "base_uri": "https://localhost:8080/",
     "height": 585
    },
    "colab_type": "code",
    "id": "CqckKpmdt_kD",
    "outputId": "e5659bb1-380f-451e-d94f-0ac425c1b2da"
   },
   "outputs": [
    {
     "data": {
      "image/png": "[encoded data removed]",
      "text/plain": [
       "<Figure size 576x576 with 1 Axes>"
      ]
     },
     "metadata": {
      "needs_background": "light"
     },
     "output_type": "display_data"
    }
   ],
   "source": [
    "fig, ax = plt.subplots(figsize=(8, 8))\n",
    "plot_regression_results(ax, y_test.values, y_pred,'LinearRegression test','MSE={:.2f} cm'.format(mean_squared_error(y_test,y_pred)),\"BicepC\")\n",
    "plt.tight_layout()\n",
    "plt.show()"
   ]
  },
  {
   "cell_type": "markdown",
   "metadata": {
    "colab_type": "text",
    "id": "2mFN6BmuuLVz"
   },
   "source": [
    "On the test dataset, the MSE is 5 centimeters"
   ]
  },
  {
   "cell_type": "code",
   "execution_count": null,
   "metadata": {
    "colab": {},
    "colab_type": "code",
    "id": "KFaxTuXbuGlj"
   },
   "outputs": [],
   "source": []
  }
 ],
 "metadata": {
  "colab": {
   "collapsed_sections": [],
   "name": "01_regression.ipynb",
   "provenance": [],
   "toc_visible": true
  },
  "kernelspec": {
   "display_name": "Python 3 (ipykernel)",
   "language": "python",
   "name": "python3"
  },
  "language_info": {
   "codemirror_mode": {
    "name": "ipython",
    "version": 3
   },
   "file_extension": ".py",
   "mimetype": "text/x-python",
   "name": "python",
   "nbconvert_exporter": "python",
   "pygments_lexer": "ipython3",
   "version": "3.8.0"
  },
  "toc-showmarkdowntxt": false
 },
 "nbformat": 4,
 "nbformat_minor": 4
}
